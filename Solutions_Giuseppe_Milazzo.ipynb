{
 "cells": [
  {
   "cell_type": "markdown",
   "metadata": {},
   "source": [
    "#### Define some function useful for testing"
   ]
  },
  {
   "cell_type": "code",
   "execution_count": 1,
   "metadata": {},
   "outputs": [],
   "source": [
    "import random\n",
    "\n",
    "## generate an array of n random integers up to b\n",
    "def get_random_array(n, b = 50):\n",
    "    return [random.randint(0, b) for _ in range(n)]"
   ]
  },
  {
   "cell_type": "code",
   "execution_count": 2,
   "metadata": {},
   "outputs": [],
   "source": [
    "def test_sorting_algorithm(algorithm):\n",
    "    for _ in range(100):\n",
    "        A = get_random_array(random.randint(0, 1000))\n",
    "        A_sorted = algorithm(A)\n",
    "        assert A_sorted == sorted(A), \"FAIL!\""
   ]
  },
  {
   "cell_type": "markdown",
   "metadata": {},
   "source": [
    "# Lecture 1\n",
    "\n",
    "---\n",
    "### Exercise: Selection Sort\n",
    "Write the function ```SelectionSort(coll)``` that returns a sorted list with the elements in *coll*. \n",
    "You have to implements Selection Sort algorithm."
   ]
  },
  {
   "cell_type": "code",
   "execution_count": 3,
   "metadata": {},
   "outputs": [],
   "source": [
    "## Your implementation here!!!\n",
    "def SelectionSort(coll):                                \n",
    "    for i in range(len(coll)-1):                        #l' idea è che iterativamente voglio identificare il minimo per ordinare la mia lista\n",
    "        minimum = i                                     #all inizio assumo che il minimo è il primo elemento\n",
    "        for j in range(i+1, len(coll)):                 #grazie a j punto gli elementi  successivi ad i \n",
    "            if coll[minimum] > coll[j]:                 #check per vedere se il valore attuale è maggiore di quello considerato da j\n",
    "                minimum = j                             #se TRUE il nuovo minimo sarà il valore puntato da j \n",
    "        coll[i], coll[minimum] = coll[minimum], coll[i] #dopodichè scambio l index dell' elemento in i con quello del nuovo minimo\n",
    "    return coll                                         #alla fine dell iterazione riparto dal ciclo for iniziale"
   ]
  },
  {
   "cell_type": "markdown",
   "metadata": {},
   "source": [
    "----\n",
    "### Exercise: Insertion Sort\n",
    "Write the function ```InsertionSort(coll)``` that returns a sorted list with the elements in *coll*. \n",
    "You have to implements Insertion Sort algorithm."
   ]
  },
  {
   "cell_type": "code",
   "execution_count": 4,
   "metadata": {},
   "outputs": [],
   "source": [
    "## Your implementation here!!!\n",
    "def InsertionSort(coll):\n",
    "    for j in range (1,len(coll)):       # iterativamente dal secondo elemento di coll\n",
    "        key= coll[j]                    # l' elemento è la mia key\n",
    "        i=j-1                           # i è una posizione prima di j\n",
    "        while i >= 0 and coll[i] > key: # mentre i>=0 e l elemento in coll[i] (che si trova esattamente prima key) > key]\n",
    "            coll [i + 1] = coll [i]     # muovo quel valore di una posizione a dx\n",
    "            i -=1                       # e diminuisco i \n",
    "        coll [i + 1] = key              # alla fine assegno la posizione alla chiave\n",
    "    return coll                         # e ritorno l array ordinato\n"
   ]
  },
  {
   "cell_type": "markdown",
   "metadata": {},
   "source": [
    "----\n",
    "### Exercise: Strange orderings\n",
    "Given a list, write and test comparators to obtain the following orderings:\n",
    "- Even number precede odd ones. Even numbers are sorted in non-decreasing  order while odd ones are sorted in non-increasing order.\n",
    "- Strings are sorted in non-increasing order based on their lengths. Strings having the same length are sorted in non-increasing lexicographic order. "
   ]
  },
  {
   "cell_type": "code",
   "execution_count": 5,
   "metadata": {},
   "outputs": [],
   "source": [
    "## Your implementation here!!!\n",
    "import functools\n",
    "\n",
    "def cmpevenodd(numero1,numero2):\n",
    "    if numero2%2 == 0: \n",
    "        if numero1%2 == 0:\n",
    "            return numero1-numero2     #order in non-decreasing order\n",
    "        else:\n",
    "            return 1                   #così che il secondo elemento è prima visto che è pari\n",
    "    else: \n",
    "        if numero1%2 != 0:\n",
    "            return numero2-numero1     #order in non-increasing order\n",
    "        else:\n",
    "            return -1                  #avremo numero1 prima perchè pari\n",
    "\n",
    "def cmpalphabetic(word1,word2):\n",
    "    if len(word1) == len(word2):       #for equal lenght strings\n",
    "        if word1 > word2:              # ordine alfabetico decrescente \n",
    "            return -1\n",
    "        else:\n",
    "            return 1\n",
    "    else:                              #for different lenght \n",
    "        if len (word1) < len (word2):  # ordina lunghezza decrescente\n",
    "            return 1\n",
    "        else:\n",
    "            return -1"
   ]
  },
  {
   "cell_type": "markdown",
   "metadata": {},
   "source": [
    "-----\n",
    "### Exercise: Insertion Sort with a comparator\n",
    "Write the function ```InsertionSort(coll, cmp)``` that returns a sorted list with the elements in *coll* using \n",
    "```cmp```as a comparator."
   ]
  },
  {
   "cell_type": "code",
   "execution_count": 6,
   "metadata": {},
   "outputs": [],
   "source": [
    "## Your implementation here!!!\n",
    "\n",
    "def is_cmp(a, b):                               #comparatore: True se a>b, False viceversa \n",
    "    if a > b:\n",
    "        return True\n",
    "    else:\n",
    "        return False \n",
    "\n",
    "def InsertionSort_is_cmp(coll, cmp):            #La funzione stavolta prende 2 parametri: la lista e il comparatore \n",
    "    for j in range(1,len(coll)):                #la parte iniziale è sostanzialmente uguale: partiamo con un for lopp dal secondo \n",
    "        chiave=coll[j]                          #elemento, determiniamo la nostra key dalla posizione j\n",
    "        i=j-1                                   #determiniamo la posizione i\n",
    "        while i>=0 and cmp(chiave,coll[i]):     #all'interno del while ho 2 condizioni: che ci troviamo ancora nell array e che\n",
    "            coll[i+1]=coll[i]                   #il comparatore dia valori negativi così che si possa ottenere un ordinamento crescente \n",
    "            i=i-1                               \n",
    "        coll[i+1]=chiave\n",
    "    return coll"
   ]
  },
  {
   "cell_type": "code",
   "execution_count": 7,
   "metadata": {},
   "outputs": [
    {
     "name": "stdout",
     "output_type": "stream",
     "text": [
      "[9, 8, 7, 6, 5, 4, 3, 2, 1, 0]\n"
     ]
    },
    {
     "data": {
      "text/plain": [
       "['zzzz', 'cad', 'b', 'aba', 'aaaa', 'a']"
      ]
     },
     "execution_count": 7,
     "metadata": {},
     "output_type": "execute_result"
    }
   ],
   "source": [
    "## Test here your implementation by using comparators from previous exercise.\n",
    "my_list = list(range(10))\n",
    "my_list2 = [\"a\", \"b\", \"aba\", \"cad\", \"zzzz\", \"aaaa\"]\n",
    "def test_sortedness(my_list, cmp):\n",
    "    return InsertionSort_is_cmp(my_list, is_cmp) == sorted(my_list, key = functools.cmp_to_key(is_cmp))\n",
    "\n",
    "assert test_sortedness(my_list, is_cmp), \"Must be sorted\"\n",
    "print(InsertionSort_is_cmp(my_list, is_cmp))\n",
    "assert test_sortedness(my_list2, is_cmp), \"Must be sorted\"\n",
    "InsertionSort_is_cmp(my_list2, is_cmp)"
   ]
  },
  {
   "cell_type": "markdown",
   "metadata": {},
   "source": [
    "-----\n",
    "\n",
    "### Exercise: Intersection of two lists\n",
    "Write a function ```intersection_slow(l1, l2)``` which returns the intersection of the two lists l1 and l2.\n",
    "\n",
    "Use the trivial algorithms that runs in $\\Theta(|l1|\\times|l2|)$. "
   ]
  },
  {
   "cell_type": "code",
   "execution_count": 8,
   "metadata": {},
   "outputs": [],
   "source": [
    "## Your implementation here!!!\n",
    "def intersection_slow(l1, l2):         # slow perchè quadratic time (n2)\n",
    "    intersection=[]          \n",
    "    for i in l1:                       # scan di l1\n",
    "        for j in l2:                   # per ogni valore di l1 scanno l2\n",
    "            if i==j:                   # se gli eleenti corrispondono\n",
    "                intersection.append(i) # li aggiungo alla lista \n",
    "    return intersection \n"
   ]
  },
  {
   "cell_type": "code",
   "execution_count": 9,
   "metadata": {},
   "outputs": [],
   "source": [
    "## Test here your implementation \n",
    "\n",
    "l1 = [3, 5, 1, 2]\n",
    "l2 = [1, 4, 6, 2]\n",
    "\n",
    "assert set(intersection_slow(l1, l2)) == set([1, 2]), \"Urca\""
   ]
  },
  {
   "cell_type": "markdown",
   "metadata": {},
   "source": [
    "----\n",
    "### Exercise: Faster intersection of two lists\n",
    "Write a function ```intersection(l1, l2)``` which returns the intersection of the two lists l1 and l2.\n",
    "\n",
    "Assume that both l1 and l2 are sorted!"
   ]
  },
  {
   "cell_type": "code",
   "execution_count": 10,
   "metadata": {},
   "outputs": [],
   "source": [
    "## Your implementation here!!!\n",
    "def intersection(l1, l2):               #  essendo ordinate in ordine crescente\n",
    "    if l1[-1]<l2[0] or l2[-1]<l2[0]:    #  se l ultimo valore della prima lista è< dle primo della seconda o viceversa\n",
    "        return 'Can\\'t intersect'       #  non ci possono essere casi di intersezione \n",
    "    else:\n",
    "        l1=set(l1)                      #altrimenti converto in set le 2 liste\n",
    "        l2=set(l2)\n",
    "        intersection=list(l1 & l2)      #con l'operatore \"&\" prendo gli elementi in comune tra i 2 set \n",
    "        return intersection"
   ]
  },
  {
   "cell_type": "code",
   "execution_count": 11,
   "metadata": {},
   "outputs": [],
   "source": [
    "## Test here your implementation \n",
    "l1 = [3, 4, 5, 6]\n",
    "l2 = [1, 2, 3, 4, 5]\n",
    "\n",
    "\n",
    "assert set(intersection(l1, l2)) == set([3, 4, 5]), \"Urca\""
   ]
  },
  {
   "cell_type": "markdown",
   "metadata": {},
   "source": [
    "----\n",
    "### Exercise: You own search engine\n",
    "You are given a collection of texts and you want to build your own search engine, people at Google are already very scared!\n",
    "\n",
    "Modern search engines are based on a data structure called *Inverted Index*. \n",
    "\n",
    "Each document of the collection is assigned an identifier, starting from 0.\n",
    "An inverted index stores a list, called *inverted list*, for each term of the collection.\n",
    "The list for a term *t* contains the identifiers of all the documents containing term *t*. The list is sorted.\n",
    "\n",
    "For example,\n",
    "\n",
    "````\n",
    "C = [\"dog cat elephant monkey\",  \"dog lion tiger\", \"fish dog dog cat cow\"]\n",
    "\n",
    "````\n",
    "\n",
    "The list of term *cat* is [0,2], the list of *elephant* is [0].\n",
    "\n",
    "Given two terms, an AND query reports all the documents containing both terms. For example, \n",
    "*query(\"cat\", \"dog\"), the result is [0, 2].\n",
    "\n",
    "You goal is to implement a simple search engine. Do the following. \n",
    "\n",
    "- Given the collection, build a dictionary that maps each term to its inverted list. Observe that \n",
    "each document occurs at most once in each list. \n",
    "- Implement a function *query* which answers an AND query. "
   ]
  },
  {
   "cell_type": "code",
   "execution_count": 12,
   "metadata": {},
   "outputs": [],
   "source": [
    "## Your implementation here!!!\n",
    "\n",
    "def build_index(C):\n",
    "    index = {}                                         #empty dict\n",
    "    for i, phrase in enumerate(C):                     #with enumerate I ve a counter and each element of the list\n",
    "        for phrase in phrase.split():                  #for each element in each phrase\n",
    "            index.setdefault(phrase,[]).append(i)      #I create the key wich is the element and append the position wich is the counter \n",
    "    return index \n",
    "\n",
    "def query(index, t1, t2):\n",
    "    try:\n",
    "        query_result=list(set(intersection_slow(build_index(C)[t1],build_index(C)[t2])))#usando la funzione gia creata trovo le posizioni(potevo lasciare set ma il result è dato come list)\n",
    "        if len(query_result)>0:                                       #and query resolved with actual results\n",
    "            return query_result                                       #return it\n",
    "        else:\n",
    "            return 'No document containing both terms'                #there' s no intersection \n",
    "    except KeyError:                                                  #if keys inserted are invalid   \n",
    "        return 'Either t1 or t2, or both, are not a key'"
   ]
  },
  {
   "cell_type": "code",
   "execution_count": 13,
   "metadata": {},
   "outputs": [],
   "source": [
    "## Test here your implementation \n",
    "\n",
    "C = [\"dog cat elephant monkey\",  \"dog lion tiger\", \"fish dog dog cat cow\"]\n",
    "\n",
    "index = build_index(C)\n",
    "assert query(index, \"cat\", \"dog\") == [0, 2], \"Urca\""
   ]
  },
  {
   "cell_type": "markdown",
   "metadata": {},
   "source": [
    "----\n",
    "# Lecture 2\n",
    "---\n",
    "### Exercise: Binary Vector\n",
    "You are given a binary vector, i.e., each element is either 0 or 1. Implements an easy variant of partition to sort the vector.\n"
   ]
  },
  {
   "cell_type": "code",
   "execution_count": 14,
   "metadata": {},
   "outputs": [],
   "source": [
    "## Your implementation here!!!\n",
    "def bin_partition(A,p,r):           #same params as normal partition\n",
    "    pivot=r                         #pivot is the last element\n",
    "    i=p-1                           #i is before the first element\n",
    "    for j in range(p,r+1):          #iterating over the array\n",
    "        if A[j] == 0:               #If I have 0\n",
    "            i = i+1                 #Iincrease i  \n",
    "            A[i], A[j] = A[j], A[i] #and swap i with i\n",
    "    return A                        #return the sorted array"
   ]
  },
  {
   "cell_type": "code",
   "execution_count": 15,
   "metadata": {},
   "outputs": [
    {
     "name": "stdout",
     "output_type": "stream",
     "text": [
      "[0, 1, 0, 1, 0, 1, 1, 0, 0, 0, 0, 0, 0, 1, 0, 0, 1, 0, 0, 1]\n",
      "[0, 0, 0, 0, 0, 0, 0, 0, 0, 0, 0, 0, 0, 1, 1, 1, 1, 1, 1, 1]\n"
     ]
    }
   ],
   "source": [
    "import random \n",
    "binary = [random.randint(0,1) for _ in range(20)]\n",
    "print(binary)\n",
    "print(bin_partition(binary, 0, len(binary)-1))"
   ]
  },
  {
   "cell_type": "markdown",
   "metadata": {},
   "source": [
    "\n",
    "---\n",
    "### Exercise: QuickSort\n",
    "Below an implementation of QuickSort. \n",
    "\n",
    "In this exercise you have to:\n",
    "- Write detailed comments to describe crucial parts of the code below (to prove you have understand it)\n",
    "- Implement a random selection of the pivot element"
   ]
  },
  {
   "cell_type": "code",
   "execution_count": 16,
   "metadata": {},
   "outputs": [],
   "source": [
    "## Your implementation here!!!\n",
    "# add here random selection of the pivot\n",
    "def pivot_randomized(A,low,high):                 \n",
    "    pivot =random.randint(low, high)              #seleziono un valore random dalla lista \n",
    "    A[high],A[pivot]=A[pivot],A[high]             #scambio di posto il pivot con l' ulima posizione del sub-array\n",
    "    return A[high]\n"
   ]
  },
  {
   "cell_type": "code",
   "execution_count": 17,
   "metadata": {},
   "outputs": [],
   "source": [
    "def partition(A, low, high): \n",
    "    pivot = A[high]                   #assuming the pivot is the last element of the array\n",
    "    i = low-1                         #determine position of i so it's a position before the sub-array of numbers<= of the pivot\n",
    "    for j in range(low, high):        #iterate with j through the sub-array \n",
    "        if A[j] <= pivot:             # if the number at A[j] is <= of the pivot\n",
    "            i = i+1                   #increase i by 1\n",
    "            A[i], A[j] = A[j], A[i]   #switch the position between j and i (wich will be the new larger element between those\n",
    "                                      #smaller than the pivot)\n",
    "    A[i+1], A[high] = A[high], A[i+1] #switch pivot position with the one immediately after i\n",
    "    return i+1                        #return pivot position\n",
    "#overall complexity is linear"
   ]
  },
  {
   "cell_type": "code",
   "execution_count": 18,
   "metadata": {},
   "outputs": [],
   "source": [
    "def quickSort_rec(A, low, high):      #recursive step\n",
    "    if low < high:                    #if the first index position < last index position\n",
    "        p = partition(A, low, high)   #find the new pivot trough partition\n",
    "        quickSort_rec(A, low, p-1)    #recursively sorting the sub-array with elements smaller than the pivot\n",
    "        quickSort_rec(A, p+1, high)   #recursively sorting the sub-array with elements larger than the pivot"
   ]
  },
  {
   "cell_type": "code",
   "execution_count": 19,
   "metadata": {},
   "outputs": [],
   "source": [
    "def quickSort(B):\n",
    "    A = B[:] # Copy the array just because we decided to return a sorted copy of the original array \n",
    "    quickSort_rec(A, 0, len(A)-1)\n",
    "    return A"
   ]
  },
  {
   "cell_type": "markdown",
   "metadata": {},
   "source": [
    "----\n",
    "### Exercise: Merge Sort\n",
    "Complete the implementation of Merge Sort by implementing function ```merge()```."
   ]
  },
  {
   "cell_type": "code",
   "execution_count": 20,
   "metadata": {},
   "outputs": [],
   "source": [
    "## Your implementation here!!!\n",
    "import numpy as np\n",
    "def merge(A, left, m, right):\n",
    "    n1=m-left+1                      #defining sub-arrays lenght\n",
    "    n2=right-m   \n",
    "    L=np.zeros(n1)                   #creating Left part subarray first with zeroes and then with actual A elements\n",
    "    for i in range(0,n1):\n",
    "        L[i]=A[left+i]\n",
    "    \n",
    "    R=np.zeros(n2)\n",
    "    for j in range(0,n2):            #creating right part subarray first with zeroes and then with actual A elements\n",
    "        R[j]=A[m+1+j]\n",
    "    \n",
    "    h=left                           #first index of already merged array\n",
    "    i=0                              #index of first subarray\n",
    "    j=0                              #index of second subarray\n",
    "    \n",
    "    while i<n1 and j<n2:             #in this while loop: until I m in the array \n",
    "        if L[i] <= R[j]:             #I check if the i position in L is less or equal than the position j in R\n",
    "            A[h]=L[i]                #if it is the case I copy this value in my merged array A\n",
    "            i=i+1                    #and increase counter by 1\n",
    "        else:\n",
    "            A[h] = R[j]              #otherwise I copy the value at position j in R in A\n",
    "            j+=1                     #increase counter j by 1\n",
    "        h+=1                         #moving also by 1 index on the merged array, waiting to get the next value\n",
    "        \n",
    "    while i<n1:                      #if we re out of the boundaries of the sub-arrays, just copy all the elements of the opposite sub-array:\n",
    "        A[h]=L[i]                    #doing this for both left and right sub-array\n",
    "        i+=1 \n",
    "        h+=1\n",
    "        \n",
    "    while j<n2:\n",
    "        A[h]=R[j]\n",
    "        j+=1\n",
    "        h+=1\n",
    "    \n",
    "    return A\n",
    "\n",
    "def mergeSort_rec(A, l, r): \n",
    "    \n",
    "    if l < r:       \n",
    "        m = (l+(r-1))//2  # Same as (l+r)//2, but avoids overflow for large l and h \n",
    "    \n",
    "        # Sort first and second halves \n",
    "        mergeSort_rec(A, l, m) \n",
    "        mergeSort_rec(A, m+1, r) \n",
    "        merge(A, l, m, r)\n",
    "        \n",
    "def mergeSort(B):\n",
    "    A = B[:] # Copy the array just because we decided to return a sorted copy of the original array \n",
    "    mergeSort_rec(A, 0, len(A)-1)\n",
    "    return A\n",
    "        "
   ]
  },
  {
   "cell_type": "code",
   "execution_count": 21,
   "metadata": {},
   "outputs": [
    {
     "name": "stdout",
     "output_type": "stream",
     "text": [
      "[16, 63, 92, 72, 26, 51, 46, 71, 57, 2]\n",
      "[2.0, 16.0, 26.0, 46.0, 51.0, 57.0, 63.0, 71.0, 72.0, 92.0]\n"
     ]
    }
   ],
   "source": [
    "a = get_random_array(10, 100)\n",
    "print(a)\n",
    "print(mergeSort(a))"
   ]
  },
  {
   "cell_type": "markdown",
   "metadata": {},
   "source": [
    "----\n",
    "# Lecture 3\n",
    "----\n",
    "### Exercise: Activity Selection Problem\n",
    "Activity selection problem is a problem in which a person has a list of works to do. \n",
    "\n",
    "Each of the activities has a starting time and ending time. \n",
    "\n",
    "We need to schedule the activities in such a way the person can complete a maximum number of activities. \n",
    "\n",
    "Since the timing of the activities  may overlap, so it might not be possible to complete all the activities and thus we need to schedule the activities in such a way that the maximum number of activities can be finished."
   ]
  },
  {
   "cell_type": "code",
   "execution_count": 22,
   "metadata": {},
   "outputs": [],
   "source": [
    "## Your implementation here!!!\n",
    "def fca(A):                                                      #fca stands for freeconflictactivities                 \n",
    "    A=sorted(A,key=lambda x:x[1])                                #order based on ending time of each activity\n",
    "    sel_activities=[]                                            #list of what I choose\n",
    "    sel_activities.append(A[0])                                  #inserting the first element of A (to avoid error \"Index out of range\")\n",
    "    for activity in A:                                           #for each activity\n",
    "        if activity[0]>=sel_activities[-1][1]:                   #if the starting time of an activity is >= the ending \n",
    "                                                                 #time of the last selected activity \n",
    "            sel_activities.append(activity)\n",
    "    return sel_activities"
   ]
  },
  {
   "cell_type": "code",
   "execution_count": 23,
   "metadata": {},
   "outputs": [
    {
     "name": "stdout",
     "output_type": "stream",
     "text": [
      "[(2, 4), (5, 6), (6, 9)]\n"
     ]
    }
   ],
   "source": [
    "A=[(5,6),(2,4),(2,8),(5,6),(6,9),(1,4),(8,9)]\n",
    "print(fca(A))"
   ]
  },
  {
   "cell_type": "markdown",
   "metadata": {},
   "source": [
    "----\n",
    "### Exercise: Fractional Knapsack Problem\n",
    "\n",
    "Your goal: Write a function fractional_knapsack(L,W) which takes a list L of pairs (value, weight) and the capacity  𝑊  and returns maximum possible value we can obtain by selecting items."
   ]
  },
  {
   "cell_type": "code",
   "execution_count": 24,
   "metadata": {},
   "outputs": [],
   "source": [
    "## Your implementation here!!!\n",
    "def fractional_knapsack(L,W):\n",
    "    max_value=0                                          #max_value è la variabile in cui aggiungo i valori                                                     \n",
    "    temp_list=[]                                         #creo una lista temporanea\n",
    "    for pairs in L:                                      #per ogni tuple\n",
    "        pairs=list(pairs)                                #converto in lista\n",
    "        ratio=pairs[0]/pairs[1]                          #calcolo il ratio\n",
    "        pairs.append(ratio)                              #aggiungo il ratio a ogni lista\n",
    "        temp_list.append(pairs)                          #aggiungo lista alla nested list temp_list\n",
    "    L=sorted(temp_list,key = lambda x: x[2],reverse=True)#ordino L in reverse order basandomi sul terzo elemento di ogni sublist (il ratio)\n",
    "    if W<=0:                                             #se viene inserito un peso<=0 mi dice che non c è spazio\n",
    "        return'No space in the knapsack'\n",
    "    elif W>0:                                            #altrimenti\n",
    "        for pair in L:                                   #iterativamente per ogni coppia valore peso\n",
    "            if pair[1]<=W:                               #se c è spazio            \n",
    "                W=W-pair[1]                              #lo diminuisco aggiornando W\n",
    "                max_value=max_value+pair[0]              #e aumento il valore massimo\n",
    "            else:                                        #altrimenti se il peso supera il spazio a disposizione\n",
    "                frazione=W/pair[1]                       #mi salvo la frazione\n",
    "                W=W-pair[1]*frazione                     #diminuisco il peso rimanente così che W diventerebbe 0\n",
    "                max_value=max_value+pair[0]*frazione     #e aumento il valore massimo\n",
    "    return max_value  "
   ]
  },
  {
   "cell_type": "code",
   "execution_count": 25,
   "metadata": {},
   "outputs": [
    {
     "name": "stdout",
     "output_type": "stream",
     "text": [
      "240.0\n"
     ]
    }
   ],
   "source": [
    "L = [(60, 10), (100, 20), (120, 30)]\n",
    "W=50\n",
    "print(fractional_knapsack(L,W))"
   ]
  },
  {
   "cell_type": "markdown",
   "metadata": {},
   "source": [
    "----\n",
    "# Lecture 4\n",
    "\n",
    "----\n",
    "\n",
    "### Exercise: K-largest elements of a array\n",
    "\n",
    "We want to compute the K-largest elements of a array A. \n",
    "\n",
    "There are three possible algorithms to solve this problem:\n",
    "\n",
    "\n",
    "#### Algorithm 1: Sorting\n",
    "The easiest way to solve this is by sorting the array in decreasing order and reporting the first K elements. \n",
    "\n",
    "This algorithm costs $\\Theta(n\\log n)$ time. \n",
    "\n",
    "Implement this algorithm in a function ```k_largest_sort(A, K)```and test its correctness.\n",
    "\n",
    "#### Algorithm 2: QuickSelect\n",
    "Implement the QuickSelect algorithm and use it to find the K-largest element E in the array A. Then, scan A again \n",
    "to collect the K elements larger than or equal to E. Finally, sort the collected elements.\n",
    "\n",
    "This algorithm costs $\\Theta(n + K\\log K)$ time (in expectation). \n",
    "\n",
    "Implement this algorithm in a function ```k_largest_quickselect(A, K)```and test its correctness.\n",
    "\n",
    "\n",
    "#### Algorithm 3: Heap\n",
    "You have to implement the following faster algorithm as a function ```k_largest(A,K)```.\n",
    "- Scan the array from left to right and keep a min-heap. The min-heap will contain at most K elements.\n",
    "- Insert the current element into the heap, if the heap has less than K elements or the current element is larger than the minimum in the heap. If the heap has more than K elements, remove the minimum. \n",
    "- Sort the collected elements.\n",
    "\n",
    "This algorithm runs in $\\Theta(n\\log K)$ time.\n",
    "\n",
    "Implement this algorithm in a function ```k_largest_heap(A, K)```and test its correctness."
   ]
  },
  {
   "cell_type": "code",
   "execution_count": 26,
   "metadata": {},
   "outputs": [],
   "source": [
    "### Algorithm 1 goes here\n",
    "def k_largest_sort(A, K):\n",
    "    A.sort(reverse=True)\n",
    "    return A[:K]"
   ]
  },
  {
   "cell_type": "code",
   "execution_count": 27,
   "metadata": {},
   "outputs": [],
   "source": [
    "### Algorithm 2 goes here\n",
    "def partition(A, left, right):                   # implementaione con pivot randomico\n",
    "    pivot = random.randint(left, right)          # seleziona un indice a caso tra quelli nell' array\n",
    "    A[right], A[pivot] = A[right], A[pivot]      # metto il pivot nell'ultimo posto dell'array                 \n",
    "    i = left-1\n",
    "    for j in range(left, right):                 # il puntatore j scansiona l'intero array\n",
    "        if A[j] > pivot:                         # se il valore selezionato nell' array è minore del pivot\n",
    "            i = i+1                              # aumenta i di 1 e\n",
    "            A[i], A[j] = A[j], A[i]              # scambia il valore più piccolo del pivot (puntato da j) con il valore puntato da i (che diventerà il nuovo\n",
    "                                                 # \"estremo\" della porzione di valori inferiori al pivot)\n",
    "    A[i+1], A[right] = A[right], A[i+1]          # Una volta che ha le due partizioni va a scambiare la posizione del pivot con quella immediatamente\n",
    "    return i+1                                   # successiva ad i (e duqnue i+1) interponendolo tra le due partizioni. Alla fine ritorna la posizione del pivot\n",
    "\n",
    "def quickselect(A,i,left,right):\n",
    "    if left==right:\n",
    "        return A[0]                              # quando k = pivot#'There\\'s only one element in the list: ',\n",
    "    p= partition(A,left, right)                  # chiamo partition\n",
    "    if p == i :                                  # se il pivot è il mio kth element\n",
    "        return p                                 # torno il pivot\n",
    "    elif i < p:                                  # se è minore chiamo ricorsivamente nella parte sx  \n",
    "        return quickselect(A,i,left, p-1)                    \n",
    "    else:                                        # se è maggiore chiamo ricorsivamente nella parte dx                 #                                        \n",
    "        return quickselect(A,i,p+1, right)                       \n",
    "\n",
    "def k_largest_quickselect(A, K):\n",
    "    if K>len(A):                                                          #se l indice inserito è maggiore del # max di indici di A\n",
    "        return 'Please, insert an index smaller or equal the lenght of A' # torno un msg di out of bound\n",
    "    else:\n",
    "        sel_values=[]                                                     # altrimenti mi creo la mia lista\n",
    "        E=quickselect(A,K,0,len(A)-1)                                     # chiamo quickselect sull intero mio array\n",
    "        for i in A:                                                       # scan di A \n",
    "            if i>=E:                                                      # se l' elemento è maggiore di E\n",
    "                sel_values.append(i)                                      # lo aggiungo alla lista\n",
    "        sel_values.sort(reverse=True)                                     #sorting in reversed order\n",
    "    return sel_values[:K]                                                 #torno la lista con i suoi valori fino a K"
   ]
  },
  {
   "cell_type": "code",
   "execution_count": 28,
   "metadata": {},
   "outputs": [],
   "source": [
    "### Algorithm 3 goes here\n",
    "import heapq\n",
    "def k_largest_heap(A,K):                   \n",
    "    min_heap=A[0:K]                               # collecting only elements till k\n",
    "    heapq.heapify(min_heap)                       # creating the min_heap\n",
    "    for i in range(K, len(A)):                    # looping through elements after K in A            \n",
    "        if A[i] > min(min_heap):                  #if curr element is greater than the min of my min_heap\n",
    "            heapq.heapreplace(min_heap, A[i])     #I replace it \n",
    "    min_heap.sort()                               \n",
    "    return min_heap "
   ]
  },
  {
   "cell_type": "code",
   "execution_count": 29,
   "metadata": {},
   "outputs": [],
   "source": [
    "## test your implementation\n",
    "a = get_random_array(1000, 10000)  \n",
    "assert sorted(k_largest_sort(a, 10)) == sorted(a)[-10:], \"FAIL!\"\n",
    "assert sorted(k_largest_quickselect(a, 10)) == sorted(a)[-10:], \"FAIL!\" \n",
    "assert sorted(k_largest_heap(a, 10)) == sorted(a)[-10:], \"FAIL!\"  "
   ]
  },
  {
   "cell_type": "markdown",
   "metadata": {
    "slideshow": {
     "slide_type": "subslide"
    }
   },
   "source": [
    "---\n",
    "\n",
    "### Exercise: compute distinct elements\n",
    "You are given a list A of elements and you want to obtain the list of distict elements in A.\n",
    "\n",
    "There are two possible algorithms to do this:\n",
    "\n",
    "- Use ```list(set(A))```\n",
    "- Sort A and then scan. Implement this as a function ```distinct(A)``` \n",
    "\n",
    "Compare these two approaches by varying the size of the array and the number of distinct elements."
   ]
  },
  {
   "cell_type": "code",
   "execution_count": 30,
   "metadata": {},
   "outputs": [],
   "source": [
    "## Your implementation here!!!\n",
    "def easy_dist(A):\n",
    "    return list(set(A))\n",
    "\n",
    "def distinct(A):\n",
    "    A=sorted(A)\n",
    "    B=[]\n",
    "    for i in A:\n",
    "        if i not in B:\n",
    "            B.append(i)\n",
    "    return B "
   ]
  },
  {
   "cell_type": "code",
   "execution_count": 31,
   "metadata": {},
   "outputs": [
    {
     "name": "stdout",
     "output_type": "stream",
     "text": [
      "[3, 10, 2, 4]\n",
      "[2, 3, 4, 10]\n"
     ]
    }
   ],
   "source": [
    "A = [10, 2, 3, 3, 4, 3, 4]\n",
    "print(easy_dist(A))\n",
    "print(distinct(A))"
   ]
  },
  {
   "cell_type": "code",
   "execution_count": 32,
   "metadata": {},
   "outputs": [
    {
     "name": "stdout",
     "output_type": "stream",
     "text": [
      "13.9 µs ± 276 ns per loop (mean ± std. dev. of 7 runs, 100000 loops each)\n",
      "282 ms ± 14 ms per loop (mean ± std. dev. of 7 runs, 1 loop each)\n"
     ]
    }
   ],
   "source": [
    "a = get_random_array(1000, 10000)\n",
    "K=10\n",
    "%timeit k_largest_sort(a, K)#way faster!!\n",
    "%timeit k_largest_quickselect(a, K)#way slower!!"
   ]
  },
  {
   "cell_type": "markdown",
   "metadata": {},
   "source": [
    "---\n",
    "\n",
    "### Exercise: Pareto frontier of a set of points in 2-D space (aka Skyline problem)\n",
    "We are given a set $S$ of $n$ 2D points.\n",
    "A point $(x,y)$ dominates a point $(x',y')$ iff $𝑥'\\leq 𝑥$ and $y'\\leq 𝑦$. \n",
    "Our goal is to find the set $P$ of dominating points in $S$. \n",
    "This corresponds to find the Pareto frontier (or, equivalently, the skyline). \n",
    "\n",
    "The problem can be solved in $\\Theta(n\\log n)$ time.\n",
    "\n",
    "To find $P$ we need to sort points in $S$ by $x$ in descending order, \n",
    "and if $x$′𝑠 the same by $y$ in descending order. This takes $\\Theta(n\\log n)$ time. \n",
    "Then, we do the following.\n",
    "\n",
    "- Include first point in $P$ and remember this point as $𝑇$. \n",
    "- Iterates through the point (let $C$ current point):\n",
    "* if $C$ is dominated by $T$, then skip $C$ and go to next point;\n",
    "* Otherwise, include $C$ in $P$ and set $𝑇=𝐶$.\n",
    "\n",
    "This step can be performed in linear time.\n",
    "\n",
    "Implement the function ```pareto_frontier(S)```, which returns the pareto frontier $P$ of the points in $S$.\n"
   ]
  },
  {
   "cell_type": "code",
   "execution_count": 33,
   "metadata": {},
   "outputs": [],
   "source": [
    "## Your implementation here!!!\n",
    "def pareto_frontier(S):\n",
    "    S=sorted(S,key= lambda x: (x[1], x[0]),reverse=True) # sort by 𝑥 in descending order, and if  𝑥′𝑠 the same by, 𝑦 in descending order\n",
    "    pareto_points=[]                                     #list of points belonging to the skyline\n",
    "    pareto_points.append(S[0])                           #sorted as it is the first element is also the first point of the skyline\n",
    "    T=pareto_points[0]                                   #setto T come il primo punto\n",
    "    for C in S[1:]:                                      #itero dal secondo elemento\n",
    "        if C[1]<T[1] and C[0]>T[0]:                      #se C domina T  \n",
    "            pareto_points.append(C)                      #lo aggiungo\n",
    "            T=C                                          #setto il nuovo T=C\n",
    "        else:\n",
    "            pass                                         #altrimenti non faccio nulla\n",
    "    return pareto_points"
   ]
  },
  {
   "cell_type": "markdown",
   "metadata": {},
   "source": [
    "In order to sort in the right way I got some help from here\n",
    "https://stackoverflow.com/questions/32564507/how-to-sort-the-list-of-tuples-first-by-the-descending-order-and-alphabetically"
   ]
  },
  {
   "cell_type": "code",
   "execution_count": 34,
   "metadata": {},
   "outputs": [],
   "source": [
    "## Test your implementation here\n",
    "\n",
    "S = [(6, 7.5), (7, 8), (8, 7), (2, 9), (3, 9.5), (1, 10), (4, 9), (5, 8)]\n",
    "\n",
    "assert pareto_frontier(S) == [(1, 10), (3, 9.5), (4, 9), (7, 8), (8, 7)], \"Fail!\""
   ]
  },
  {
   "cell_type": "markdown",
   "metadata": {},
   "source": [
    "----\n",
    "# Lecture 5\n",
    "----\n",
    "\n",
    "### Exercise: Open Addressing with linear probing\n",
    "Complete the implementation below by implementing ```Lookup```and ```Delete```."
   ]
  },
  {
   "cell_type": "code",
   "execution_count": 35,
   "metadata": {},
   "outputs": [],
   "source": [
    "## Your implementation here!!!\n",
    "\n",
    "class linear_probing_set:\n",
    "    def __init__(self, size):\n",
    "        \n",
    "        self.T = [None]*size\n",
    "        self.prime = 993319\n",
    "        self.a = random.randint(2, self.prime-1)\n",
    "        self.b = random.randint(2, self.prime-1)\n",
    "        self.n_keys = 0\n",
    "    \n",
    "    def insert(self, key): # fix len(T) < self.n_keys if you want\n",
    "        if self.lookup(key):\n",
    "            return\n",
    "        h = self.hash(key)\n",
    "        while self.T[h] != None and self.T[h] != 'D':\n",
    "            h += 1\n",
    "            if h == len(self.T):\n",
    "                h = 0\n",
    "        self.T[h] = key\n",
    "        self.n_keys += 1\n",
    "    \n",
    "    # Return True if key is in the set, False otherwise\n",
    "    def lookup(self, key):\n",
    "        p = self.hash(key)                     #p stands for position\n",
    "        while self.T[p] != None:               #until the element at T[p] isn' t None\n",
    "            if self.T[p]!= key:                #if it is not the key\n",
    "                p += 1                         #I move by 1 position\n",
    "                if p>= len(self.T):            #if I m outside the Table\n",
    "                    p=0                        #reset the position to starting position\n",
    "            else:\n",
    "                return True                    #otherwise I return the key               \n",
    "        return False\n",
    "    \n",
    "    def delete(self, key):\n",
    "        p=self.hash(key)                       #p stands for position\n",
    "        while self.T[p] != None:               #until the element at T[p] isn' t None\n",
    "            if self.T[p]!= key:                #if it is not the key\n",
    "                    p += 1                     #I move by 1 position\n",
    "                    if p>= len(self.T):        #if I m outside the Table\n",
    "                        p=0                    #reset the position to starting position\n",
    "            else:\n",
    "                self.T[p] = \"D\"                #otherwise I set the position to delete\n",
    "                return True                    #and I return it\n",
    "        return False\n",
    "    def hash(self, key):\n",
    "        return ((self.a*key + self.b) % self.prime) % len(self.T)\n",
    "    \n",
    "    def len(self):\n",
    "        return self.n_keys"
   ]
  },
  {
   "cell_type": "code",
   "execution_count": 36,
   "metadata": {},
   "outputs": [],
   "source": [
    "## Test your implementation\n",
    "\n",
    "n = 10000\n",
    "\n",
    "a = get_random_array(n, n)\n",
    "\n",
    "queries = get_random_array(n, n)\n",
    "\n",
    "lp_set = linear_probing_set(2*n)\n",
    "std_set = set()\n",
    "\n",
    "for key in a:\n",
    "    lp_set.insert(key)\n",
    "    std_set.add(key)\n",
    "\n",
    "assert len(std_set) == lp_set.len(), \"Fail len!\"     \n",
    "    \n",
    "for key in a:\n",
    "    assert lp_set.lookup(key) == True, \"Lookup fail a\"\n",
    "  \n",
    "for key in queries:\n",
    "    assert lp_set.lookup(key) == (key in std_set), \"Lookup fail queries\"\n",
    "    \n",
    "for key in a[:300]:\n",
    "    lp_set.delete(key)\n",
    "    try:\n",
    "        std_set.remove(key)\n",
    "    except:\n",
    "        pass # the key has been already removed\n",
    "          \n",
    "    assert lp_set.lookup(key) == (key in std_set), \"Lookup fail delete\" "
   ]
  },
  {
   "cell_type": "markdown",
   "metadata": {},
   "source": [
    "----\n",
    "### Exercise: Hashing with Chains\n",
    "Complete the implementation below by implementing ```Lookup``` and ```Delete```."
   ]
  },
  {
   "cell_type": "code",
   "execution_count": 37,
   "metadata": {},
   "outputs": [],
   "source": [
    "## Your implementation here!!!\n",
    "class chaining_set:\n",
    "    def __init__(self, size):\n",
    "        \n",
    "        self.T = []\n",
    "        for _ in range(size):\n",
    "            self.T.append([])\n",
    "        self.prime = 993319\n",
    "        self.a = random.randint(2, self.prime-1)\n",
    "        self.b = random.randint(2, self.prime-1)\n",
    "        self.n_keys = 0\n",
    "        \n",
    "    def insert(self, key):\n",
    "        if self.lookup(key):\n",
    "            return\n",
    "\n",
    "        h = self.hash(key)\n",
    "        self.T[h].append( key )\n",
    "        self.n_keys += 1\n",
    "    \n",
    "    # return True if key is in the set, False otherwise\n",
    "    def lookup(self, key):\n",
    "        p = self.hash(key)                                  #calcolo della posizione\n",
    "        for keys in range(len(self.T[p])):                  #iterativamente con gli index\n",
    "            if self.T[p][keys] == key:                      #se troviamo key\n",
    "                return True  \n",
    "        return False                                        #non esiste la key che stiamo cercando\n",
    "    \n",
    "    def delete(self, key):\n",
    "        check=self.lookup(key)\n",
    "        if check:\n",
    "            h=self.hash(key)\n",
    "            for keys in range(len(self.T[h])):                #per tutti gli elementi nella chain della posizione trovata prima\n",
    "                if self.T[h][keys] is key:                    #se troviamo key\n",
    "                    self.n_keys-=1\n",
    "                    self.T[h][-1], self.T[h][keys] = self.T[h][keys],self.T[h][-1]\n",
    "                    del self.T[h]\n",
    "                    return True\n",
    "        else:\n",
    "            return False\n",
    "       \n",
    "            \n",
    "    def hash(self, key):\n",
    "        return ((self.a*key + self.b) % self.prime) % len(self.T)\n",
    "    \n",
    "    def len(self):\n",
    "        return self.n_keys"
   ]
  },
  {
   "cell_type": "code",
   "execution_count": 38,
   "metadata": {},
   "outputs": [],
   "source": [
    "## Test your implementation\n",
    "\n",
    "n = 10000\n",
    "\n",
    "a = get_random_array(n, n)\n",
    "\n",
    "queries = get_random_array(n, n)\n",
    "\n",
    "c_set = chaining_set(2*n)\n",
    "std_set = set()\n",
    "\n",
    "for key in a:\n",
    "    c_set.insert(key)\n",
    "    std_set.add(key)\n",
    "\n",
    "assert len(std_set) == c_set.len(), \"Fail len!\"     \n",
    "    \n",
    "for key in a:\n",
    "    assert c_set.lookup(key) == True, \"Lookup fail a\"\n",
    "  \n",
    "for key in queries:\n",
    "    assert c_set.lookup(key) == (key in std_set), \"Lookup fail queries\"\n",
    "    \n",
    "for key in a[:300]:\n",
    "    c_set.delete(key)\n",
    "    try:\n",
    "        std_set.remove(key)\n",
    "    except:\n",
    "        pass # the key has been already removed\n",
    "          \n",
    "    assert c_set.lookup(key) == (key in std_set), \"Lookup fail delete\"  "
   ]
  },
  {
   "cell_type": "markdown",
   "metadata": {},
   "source": [
    "----\n",
    "\n",
    "### Exercise: Dictionary\n",
    "Modify the previous code (i.e., Hashing with Chains) to implement a dictionary, i.e., store a value together with each key. \n",
    "You need to implement methods:\n",
    "- ```Insert(key, value)```: insert the key with its value. If the key was already present, change its value;\n",
    "- ```Delete(key)```: remove the key;\n",
    "- ```Lookup(key)```: return True if the key is present, False otherwise;\n",
    "- ```Value(key)```: return the value associated with the key. It returns None, if the key is not present.\n",
    "\n",
    "I suggest to store pairs (key, value) within the lists."
   ]
  },
  {
   "cell_type": "code",
   "execution_count": 39,
   "metadata": {},
   "outputs": [],
   "source": [
    "## Your implementation here!!!\n",
    "class dictionary_:\n",
    "    def __init__(self, size):\n",
    "        \n",
    "        self.T = []\n",
    "        for _ in range(size):\n",
    "            self.T.append([]) \n",
    "        self.prime = 993319\n",
    "        self.a = random.randint(2, self.prime-1)\n",
    "        self.b = random.randint(2, self.prime-1)\n",
    "        self.n_keys = 0\n",
    "    \n",
    "    \n",
    "    def insert(self, key, value):\n",
    "        h = self._hash_(key)                                  #\n",
    "        p= self.T[h]                                          # posizione del tuple nella lista\n",
    "        if self.lookup(key)==True:                            #se la chiave è presente\n",
    "            for key_pos in range (len(p)):                    #itero sulle posizione\n",
    "                    if p[key_pos][0] == key:                  #se il primo elemento di una posizione è la key che cerco\n",
    "                        p[key_pos] = (key, value)             #assegno alla posizione la tupla valore chiave \n",
    "        else:\n",
    "            p.append((key, value))                            #altrimenti con un semplice append aggiungo la tupla\n",
    "            self.n_keys+=1                                    #e incremento il numero delle chiavi\n",
    "\n",
    "            \n",
    " \n",
    "    def delete(self, key):\n",
    "        check=self.lookup(key)                                #check con lookup per vedere se la chiave è presente o meno\n",
    "        if check:                                             # se si\n",
    "            h = self._hash_(key)                              #scelgo la posizione da assegnargli\n",
    "            p= self.T[h]                                      #e la assegno a p \n",
    "            for keys in range (len(self.T[h])):               #iterativamente sulle posizioni delle chiavi\n",
    "                if p[keys][0] is key:                         #se il primo elemento di una posizione è la key che cerco \n",
    "                    self.T[h][-1], self.T[h][keys] = self.T[h][keys],self.T[h][-1] #scambio posto con l ultima\n",
    "                    self.T[h].pop()                           #con pop la rimuovo e la ritorno\n",
    "                    self.n_keys-=1                            #diminuisco il numero di chiavi\n",
    "                    return True\n",
    "        else:\n",
    "            return False                                      #false se la chiave da cercare non c è\n",
    "   \n",
    "    \n",
    "    def lookup(self, key):\n",
    "        h = self._hash_(key)                                       \n",
    "        p= self.T[h]                      \n",
    "        for key_pos in range(len(p)):                         #iterativamente sulle posizioni delle chiavi\n",
    "            if p[key_pos][0] == key:                          #se il primo elemento di una posizione è la key che cerco \n",
    "                return True                                   #torno True \n",
    "        return False                                          #altrimenti false\n",
    "                \n",
    "    def value(self, key): \n",
    "        if self.lookup(key) == False:                         #senza chiave non posso aggiungere il valore\n",
    "            return False\n",
    "        else:                                        \n",
    "            h = self._hash_(key)\n",
    "            p= self.T[h]                     \n",
    "            for key_pos in range(len(p)):                     #iterativamente sulle posizioni delle chiavi \n",
    "                if p[key_pos][0] == key:                      #se il primo elemento di una posizione è la key che cerco  \n",
    "                    return p[key_pos][1]                      #ritorno il valore associato alla chiave\n",
    "            return \"can't find the value\"\n",
    "                    \n",
    "    def _hash_(self, key):\n",
    "        return ((self.a*key + self.b) % self.prime) % len(self.T)\n",
    "    \n",
    "    def __str__(self):\n",
    "        return \"Dictionary result \\n %s \\n\" % (self.T)\n",
    "    \n",
    "    def len(self):\n",
    "        return self.n_keys"
   ]
  },
  {
   "cell_type": "code",
   "execution_count": 40,
   "metadata": {},
   "outputs": [
    {
     "name": "stdout",
     "output_type": "stream",
     "text": [
      "Dictionary result \n",
      " [[(14, 3), (1, 5)], [(44, 2), (5, 2)], [(8, 7)], [(12, 7)], [(2, 5)], [], [(9, 6)], [], [], [(6, 4)], [], [], [(4, 8)], [(7, 12), (34, 6)], []] \n",
      "\n",
      "After insert Dictionary result \n",
      " [[(14, 3), (1, 5)], [(44, 2), (5, 2)], [(8, 7)], [(12, 7)], [(2, 5)], [], [(9, 6)], [], [(3, 27)], [(6, 4)], [], [], [(4, 8)], [(7, 12), (34, 6)], []] \n",
      "\n",
      "After delete Dictionary result \n",
      " [[(14, 3), (1, 5)], [(44, 2), (5, 2)], [(8, 7)], [(12, 7)], [], [], [(9, 6)], [], [(3, 27)], [(6, 4)], [], [], [], [(7, 12), (34, 6)], []] \n",
      "\n",
      "After lookup Dictionary result \n",
      " [[(14, 3), (1, 5)], [(44, 2), (5, 2)], [(8, 7)], [(12, 7)], [], [], [(9, 6)], [], [(3, 27)], [(6, 4)], [], [], [(4, 13)], [(7, 12), (34, 6)], []] \n",
      "\n",
      "After value 2\n"
     ]
    }
   ],
   "source": [
    "## Write here some tests to test your implementation \n",
    "my_keys = [4,6,14,44,1,6,8,5,7,9,9,12,5,2,34]\n",
    "my_values= [8,3,3,2,5,4,7,8,12,10,6,7,2,5,6]\n",
    "my_dict = dictionary_(15)\n",
    "\n",
    "for i in range(15):\n",
    "    key = my_keys[i]\n",
    "    value = my_values[i]\n",
    "    my_dict.insert(key,value)\n",
    "print(my_dict)\n",
    "\n",
    "#Trying insert\n",
    "my_dict.insert(3, 27)\n",
    "print(\"After insert\" ,my_dict)\n",
    "\n",
    "#Trying delete\n",
    "my_dict.delete(2)\n",
    "assert my_dict.delete(4) == True, \"Delete fail\"\n",
    "print(\"After delete\",my_dict)\n",
    "\n",
    "#Trying lookup\n",
    "my_dict.insert(4, 13)\n",
    "assert my_dict.lookup(5) == True, \"Insert fail\"\n",
    "print(\"After lookup\", my_dict)\n",
    "\n",
    "#Trying value\n",
    "print(\"After value\",my_dict.value(44))"
   ]
  },
  {
   "cell_type": "markdown",
   "metadata": {},
   "source": [
    "---\n",
    "# Lecture 6\n",
    "\n",
    "--- \n",
    "### Exercise: Implements your own GroupBy\n",
    "\n",
    "In the rest of your life you are going to use GroupBy implemented in some library, but in this exercise we will implement our own simplified version. \n",
    "\n",
    "You are give a list of tuples, all with the same number of components. In our simplified implementation  of a pandas' DataFrame each tuple in the list is a row of the DataFrame. Each component of a tuple is a value of a column.\n",
    "\n",
    "#### Part I\n",
    "Our first goal is to implement an index to efficiently group by one of the component in the list. \n",
    "\n",
    "We'd like to implement a function ```groupBy(L, id)``` which takes the list of tuples ```L``` and the ```id``` of the component and returns a dictionary. The dictionary is an index very similar to what you implemented for a search engine. \n",
    "We have a key for each distinct value in column ```id```. The value of a certain key ```k``` is the list of indexes of all the tuple having value ```k``` in the column ```id```.\n",
    "This means that, if index ```p``` is in the list of key ```k```, then ```L[p][id] = k```.\n",
    "\n",
    "For example it we have tuples \n",
    "\n",
    "|   | \n",
    "|:-|\n",
    "(1, 5, 11)\n",
    "(0, 4, 1000)\n",
    "(1, 2, 11)\n",
    "(1, 4, 66) \n",
    "(0, 3, 99)\n",
    "\n",
    "The groupBy with id=0 will group by first column.\n",
    "\n",
    "The index is\n",
    "\n",
    "|   | \n",
    "|:--| \n",
    "0: [1, 4]\n",
    "1: [0, 2, 3]\n",
    " \n",
    "#### Part II\n",
    "We'd like to implement a function ```max_groupBy(index, L)``` which takes the index built in previous part on list ```L``` and returns a dictionary. \n",
    "We have a key for each distinct value in column ```id```. The value of a certain key ```k``` is the list. The list has a element for each column: the maximum value in that column for each tuple having value ```k``` in the column ```id```. This, of course, must be implemented by using the index.\n",
    "\n",
    "In the example before, we would obtain the dictionary\n",
    "\n",
    "|   | \n",
    "|:--| \n",
    "0: [0, 4, 1000]\n",
    "1: [1, 5, 66]\n",
    " \n"
   ]
  },
  {
   "cell_type": "code",
   "execution_count": 41,
   "metadata": {},
   "outputs": [],
   "source": [
    "## Your implementation here!!!\n",
    "def groupBy(L, idx):\n",
    "    columns_lists= [list(i) for i in zip(*L)]            #torna una nested list con 3 liste che sarebbero le colonne\n",
    "    result={}                                            #creo il dict\n",
    "    if idx>=len(columns_lists):                          #se si inserisce un valore maggiore del numero di colonne\n",
    "        return 'Please, insert a valid column value'     #gentilmente chiedo di inserire un valore valido  \n",
    "    else:\n",
    "        keys=set(columns_lists[idx])                     #mi salvo i valori unici di ogni colonna come chiavi in una lista\n",
    "        for i in keys:                                   #per ogni chiave\n",
    "            for j in range(len(columns_lists[idx])):     #per ogni indice delle colonne \n",
    "                if i==columns_lists[idx][j]:             #se la chiave è il valore all indice j\n",
    "                    result.setdefault(i,[])              #aggiungo la chiave \n",
    "                    result[i].append(j)                  #aggiungo il valore\n",
    "        return result\n",
    "    \n",
    "def max_groupBy(L, idx):\n",
    "    columns_lists= [list(i) for i in zip(*L)]\n",
    "    result={}\n",
    "    if idx>=len(columns_lists):\n",
    "        return 'Please, insert a valid column value'#parte iniziale simile a groupBy(L, idx) per far inserire un valore valido       \n",
    "    else:\n",
    "        keys=set(columns_lists[idx])                #mi salvo i valori unici di ogni colonna come chiavi in una lista\n",
    "        temp=[]                                     #lista temporanea in cui filtro L mantenendo i tuple con i valori che mi servono\n",
    "        for i in keys:                                \n",
    "            for j in L:  \n",
    "                if i in j:                          #se la chiave che mi serve è nel tuple\n",
    "                    temp.append(j)                  #aggiungo il tuple alla lista temporanea   \n",
    "            result.setdefault(i,None)               #aggiungo la chiave con nessun valore\n",
    "            result[i]=([max(k) for k in zip(*temp)])#inserisco come valore il max index by index tra i tuple in temp\n",
    "            temp=[]                                 #resetto temp\n",
    "        return result      "
   ]
  },
  {
   "cell_type": "code",
   "execution_count": 42,
   "metadata": {},
   "outputs": [
    {
     "name": "stdout",
     "output_type": "stream",
     "text": [
      "{0: [1, 4], 1: [0, 2, 3]}\n"
     ]
    }
   ],
   "source": [
    "L = [(1, 5, 11), (0, 4, 1000), (1, 2, 11), (1, 4, 66), (0, 3, 99)]\n",
    "print(groupBy(L, 0))"
   ]
  },
  {
   "cell_type": "code",
   "execution_count": 43,
   "metadata": {},
   "outputs": [
    {
     "name": "stdout",
     "output_type": "stream",
     "text": [
      "{0: [0, 4, 1000], 1: [1, 5, 66]}\n"
     ]
    }
   ],
   "source": [
    "L = [(1, 5, 11), (0, 4, 1000), (1, 2, 11), (1, 4, 66), (0, 3, 99)]\n",
    "print(max_groupBy(L, 0))"
   ]
  },
  {
   "cell_type": "markdown",
   "metadata": {},
   "source": [
    "---\n",
    "# Lecture 7\n",
    "---\n",
    "### Exercise: Static sorted map\n",
    "Complete and test the implementation below. You have to use binary search to solve predecessor and successor queries on a sorted array."
   ]
  },
  {
   "cell_type": "code",
   "execution_count": 44,
   "metadata": {},
   "outputs": [],
   "source": [
    "## Your implementation here!!!\n",
    "class StaticSortedMap:\n",
    "    def __init__(self, A): # assume A is already sorted\n",
    "        self.sorted_map = A[:] # copy input array\n",
    "        \n",
    "    \n",
    "    def min(self):\n",
    "        return self.sorted_map[0]\n",
    "    \n",
    "    def max(self):\n",
    "        return self.sorted_map[-1] \n",
    "        \n",
    "        \n",
    "    def search(self, key): ## in our pseudocode BinarySearch(A, s, e, key)\n",
    "        def __binary_search(A, s, e, key):\n",
    "            if e >= s:\n",
    "                half = (s+e) // 2                                         #Prendo la posizione di mezzo\n",
    "                 \n",
    "                if self.sorted_map[half] == key:                          #Se in tale posizione ho la chiave la ritorno\n",
    "                    return True, half\n",
    "                elif self.sorted_map[half] > key:                         #Se la chiave è più grande del valore nella pos di mezzo\n",
    "                    return __binary_search(A,s, half-1, key)                #Richiamo il binary seach nella parte sinistra \n",
    "                else:\n",
    "                    return __binary_search(A,half+1, e, key)              #Altrimenti richiamo il binary search nella parte destra\n",
    "            else:\n",
    "                return False, s                                           #Se la chiave non c'è ritorno la posizione dove dovrebbe\n",
    "                                                                            #essere inserita\n",
    "        return __binary_search(A,0, len(A)-1, key)\n",
    "            \n",
    "        \n",
    "    def predecessor(self, key):\n",
    "        boolean, position = self.search(key)                                 #mi accerto che la key sia presente nella tupla\n",
    "        if boolean == True and self.sorted_map[position] == 0:               #se la key si trova al primo posto                               \n",
    "                return 'Impossible to find a predecessor, key is the minimum' \n",
    "        elif boolean ==True and self.sorted_map[position] != 0:\n",
    "                return position-1, self.sorted_map[position-1]               #altrimenti dimmi qual'e il predecessore e controlla sia nell'array\n",
    "        else:\n",
    "            return \"key is not present\"\n",
    "    def successor(self, key):\n",
    "        boolean, position = self.search(key)                                 #mi accerto che la key sia presente nella tupla\n",
    "        if boolean == True and self.sorted_map[position] == self.max():                            #se è così                               #se la key si trova al primo posto\n",
    "                return 'Impossible to find a successor, key is the maximum' \n",
    "        elif boolean ==True and self.sorted_map[position] != self.max():\n",
    "                return position+1,self.sorted_map[position+1]                #altrimenti dimmi qual'e il predecessore e controlla sia nell'array\n",
    "        else:\n",
    "            return \"key is not present\""
   ]
  },
  {
   "cell_type": "code",
   "execution_count": 45,
   "metadata": {},
   "outputs": [
    {
     "name": "stdout",
     "output_type": "stream",
     "text": [
      "[1, 1, 2, 5, 5, 6, 7, 8, 13, 14, 15, 17, 27, 34, 37, 40, 43, 47, 47, 47]\n",
      "1\n",
      "47\n",
      "(False, 3)\n",
      "(14, 37)\n",
      "(16, 43)\n"
     ]
    }
   ],
   "source": [
    "import random\n",
    "random.seed(42)\n",
    "A=get_random_array(20, b = 50)\n",
    "ssm = StaticSortedMap(sorted(A))\n",
    "print(ssm.sorted_map)\n",
    "print(ssm.min())\n",
    "print(ssm.max())\n",
    "print(ssm.search(3))\n",
    "print(ssm.predecessor(40))\n",
    "print(ssm.successor(40))"
   ]
  },
  {
   "cell_type": "markdown",
   "metadata": {},
   "source": [
    "----\n",
    "### Exercise: Binary Search Tree\n",
    "Extend the previous implementation of Binary Search Trees to support **search(x)** operation. Test your implementation."
   ]
  },
  {
   "cell_type": "code",
   "execution_count": 46,
   "metadata": {},
   "outputs": [],
   "source": [
    "## Your implementation here!!!\n",
    "\n",
    "class BinarySearchTree:\n",
    "    # This is a Node class that is internal to the BinarySearchTree class\n",
    "    class __Node:\n",
    "        def __init__(self, val, left=None, right=None): \n",
    "            self.val = val\n",
    "            self.left = left\n",
    "            self.right = right\n",
    "            \n",
    "        def getVal(self): \n",
    "            return self.val\n",
    "\n",
    "        def setVal(self,newval): \n",
    "            self.val = newval\n",
    "            \n",
    "        def getLeft(self): \n",
    "            return self.left\n",
    "        \n",
    "        def getRight(self): \n",
    "            return self.right\n",
    "        \n",
    "        def setLeft(self,newleft): \n",
    "            self.left = newleft\n",
    "        \n",
    "        def setRight(self,newright): \n",
    "            self.right = newright\n",
    "            \n",
    "        # This method deserves a little explanation. It does an inorder traversal\n",
    "        # of the nodes of the tree yielding all the values. In this way, we get\n",
    "        # the values in ascending order.       \n",
    "        def __iter__(self):\n",
    "            if self.left != None:\n",
    "                for elem in self.left: \n",
    "                    yield elem\n",
    "            yield self.val\n",
    "            if self.right != None:\n",
    "                for elem in self.right:\n",
    "                    yield elem\n",
    "                    \n",
    "    # Below methods of the BinarySearchTree class.\n",
    "    def __init__(self): \n",
    "        self.root = None\n",
    "         \n",
    "    def insert(self, val):   \n",
    "        # The __insert function is recursive and is not a passed a self parameter. It is a \n",
    "        # static function (not a method of the class) but is hidden inside the insert\n",
    "        # function so users of the class will not know it exists.\n",
    "        def __insert(root, val): \n",
    "            if root == None:\n",
    "                return BinarySearchTree.__Node(val)\n",
    "            if val < root.getVal(): \n",
    "                root.setLeft(__insert(root.getLeft(), val))\n",
    "            else: \n",
    "                root.setRight(__insert(root.getRight(), val))\n",
    "            return root\n",
    "        \n",
    "        self.root = __insert(self.root, val)\n",
    "        \n",
    "        \n",
    "    def search(self, val):\n",
    "        def search_(root, val):\n",
    "            if root == None:                                #se non è presente torna False \n",
    "                return False \n",
    "            if val == root.getVal():                         \n",
    "                return True                                 #se è presente torno True\n",
    "            elif val > root.getVal():                       #se è maggiore \n",
    "                return search_(root.getRight(), val)        #tramite recursion cerco a destra\n",
    "            else:                                           \n",
    "                return search_(root.getLeft(), val)         #tramite recursion cerco a sinistra\n",
    "        return search_(self.root, val)"
   ]
  },
  {
   "cell_type": "code",
   "execution_count": 47,
   "metadata": {},
   "outputs": [
    {
     "name": "stdout",
     "output_type": "stream",
     "text": [
      "[0, 1, 2, 2, 2, 3, 4, 4, 4, 5]\n",
      "['aaa', 'ciao', 'zzz', 'zzzW']\n"
     ]
    }
   ],
   "source": [
    "a = get_random_array(100)\n",
    "\n",
    "bst = BinarySearchTree()\n",
    "\n",
    "for x in a: \n",
    "    bst.insert(x)\n",
    "\n",
    "print([x for x in bst.root][:10])\n",
    "    \n",
    "assert [x for x in bst.root] == sorted(a), \"FAIL insert!\"\n",
    "\n",
    "\n",
    "## It works with strings as well\n",
    "\n",
    "a = [\"ciao\", \"aaa\", \"zzz\", \"zzzW\"]\n",
    "\n",
    "bst_strings = BinarySearchTree()\n",
    "\n",
    "for string in a:\n",
    "    bst_strings.insert(string)\n",
    "\n",
    "print([x for x in bst_strings.root])\n",
    "\n",
    "assert [x for x in bst_strings.root] == sorted(a), \"FAIL!\""
   ]
  },
  {
   "cell_type": "code",
   "execution_count": 48,
   "metadata": {},
   "outputs": [
    {
     "name": "stdout",
     "output_type": "stream",
     "text": [
      "True\n",
      "False\n"
     ]
    }
   ],
   "source": [
    "print(bst.search(4))\n",
    "print(bst.search(100000))"
   ]
  },
  {
   "cell_type": "markdown",
   "metadata": {},
   "source": [
    "---\n",
    "# Lecture 8\n",
    "---\n",
    "### Exercise: Strongly Connected Components\n",
    "The goal of this exercise is to implement the following algorithm to compute the strongly connected components of a directed graph $G$. [See here](https://www.hackerearth.com/practice/algorithms/graphs/strongly-connected-components/tutorial/). \n",
    "\n",
    "In a directed graph a component is strongly connected if there is a directed path from any vertex to every other vertex of the component. The problem asks to is to partition the graph into maximal strongly connected components.\n",
    "\n",
    "NetworkX provides a method to compute the strongly connected components of a graph [here](https://networkx.github.io/documentation/stable/reference/algorithms/generated/networkx.algorithms.components.strongly_connected_components.html#networkx.algorithms.components.strongly_connected_components). \n",
    "\n",
    "Your goal is to implement the Kosaraju's Linear time algorithm to find Strongly Connected Component. \n",
    "The algorithm is described [here](https://www.hackerearth.com/practice/algorithms/graphs/strongly-connected-components/tutorial).\n",
    "\n",
    "It works in three steps. \n",
    "\n",
    "- Do a DFS on the original graph, keeping track of the DFS finish times of each node. This can be done with a stack, when some  finishes put the source vertex on the stack. This way node with highest finishing time will be on top of the stack.\n",
    "- Reverse the original graph, i.e., if there is an edge $(u,v)$ in the original graph, add the edge $(v,u)$ in the reversed one.\n",
    "-  Do DFS on the reversed graph, with the source vertex as the vertex on top of the stack. When DFS finishes, all nodes visited will form one Strongly Connected Component. If any more nodes remain unvisited, this means there are more Strongly Connected Component's, so pop vertices from top of the stack until a valid unvisited node is found. This will have the highest finishing time of all currently unvisited nodes.\n",
    "\n",
    "Take a look at [DFS traversal documentation](https://networkx.github.io/documentation/stable/reference/algorithms/traversal.html#module-networkx.algorithms.traversal.depth_first_search).\n",
    "Note that the finishing time of a node can be inferred from its position in the DFS tree. "
   ]
  },
  {
   "cell_type": "code",
   "execution_count": 49,
   "metadata": {},
   "outputs": [],
   "source": [
    "## Your implementation here!!!\n",
    "def scc(DG):\n",
    "    stack=list(nx.dfs_preorder_nodes(DG))                              #applico DFS: mi genera creo la mia stack(ordine crescente)                                                                       \n",
    "    reversed_dg=nx.reverse(DG)                                         #tramite reverse ho lo stesso grafo ma con edge invertiti\n",
    "    visited =set()                                                     #mi creo il set dei nodi visitati\n",
    "    strongly_cc = []                                                   #mi creo la lista degli scc\n",
    "    while len(stack)!=0:                                               #fin quando ho elementi nella stack\n",
    "        source = stack[0]                                              #rendo la mia source il primo elemento\n",
    "        del stack[0]                                                   #elimino il primo elemento dalla stack\n",
    "        if source not in visited:                                      #se il nodo non è stato visitato\n",
    "            reverse_nodes=set(list(nx.dfs_postorder_nodes(reversed_dg,source)))#applico DFS: mi genera set dei nodi in ordine decrescente                                                                       #usando il reverso e partendo dal nodo#che stiamo analizzando  #quali nodi posso visitare?\n",
    "            single_strong_component=set()                              #set dei singoli scc\n",
    "            for node in reverse_nodes:                                 #iterativamente dall ultimo nodo \n",
    "                if node not in visited:                                #se il nodo non è stato visitato\n",
    "                    single_strong_component.add(node)                 #aggiungo il singoli strong component al set\n",
    "            visited.update(reverse_nodes)                              #aggiorno il set di nodi visitati \n",
    "            strongly_cc.append(single_strong_component)                #aggiorno gli scc components\n",
    "                                                          \n",
    "    return strongly_cc "
   ]
  },
  {
   "cell_type": "code",
   "execution_count": 50,
   "metadata": {
    "scrolled": true
   },
   "outputs": [
    {
     "name": "stdout",
     "output_type": "stream",
     "text": [
      "[{'1', '2', '0'}, {'5', '4', '3'}, {'6'}]\n"
     ]
    }
   ],
   "source": [
    "## Test your implementation here\n",
    "import networkx as nx\n",
    "dg = nx.DiGraph()\n",
    "dg.add_nodes_from(['0','1','2','3','4','5','6'])\n",
    "dg.add_edges_from([('0','1'),('1','2'),('2','0'),('1','3'),('3','4'),('4','5'),('5','3'),('4','6')])\n",
    "print(scc(dg))\n",
    "#print(scc(dg).edges())"
   ]
  },
  {
   "cell_type": "code",
   "execution_count": null,
   "metadata": {},
   "outputs": [],
   "source": []
  }
 ],
 "metadata": {
  "kernelspec": {
   "display_name": "Python 3 (ipykernel)",
   "language": "python",
   "name": "python3"
  },
  "language_info": {
   "codemirror_mode": {
    "name": "ipython",
    "version": 3
   },
   "file_extension": ".py",
   "mimetype": "text/x-python",
   "name": "python",
   "nbconvert_exporter": "python",
   "pygments_lexer": "ipython3",
   "version": "3.9.7"
  }
 },
 "nbformat": 4,
 "nbformat_minor": 4
}
